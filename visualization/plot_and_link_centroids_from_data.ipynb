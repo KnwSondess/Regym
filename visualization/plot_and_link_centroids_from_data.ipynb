{
 "cells": [
  {
   "cell_type": "code",
   "execution_count": 6,
   "metadata": {},
   "outputs": [],
   "source": [
    "import numpy as np\n",
    "import matplotlib.pyplot as plt\n",
    "\n",
    "\n",
    "def find_centroid(points):\n",
    "    '''\n",
    "    Finds centroid from set of points\n",
    "    :param points: np.array of points\n",
    "    '''\n",
    "    length = points.shape[0]\n",
    "    sum_x = np.sum(points[:, 0])\n",
    "    sum_y = np.sum(points[:, 1])\n",
    "    return np.array([sum_x/length, sum_y/length])\n",
    "\n",
    "\n",
    "def divide_points(points, divisions):\n",
    "    '''\n",
    "    Divides :param: points into sub np.arrays\n",
    "    :param points: np.array of points\n",
    "    :param divisions: int, number of sub np.arrays we wish to divide the original :param: points\n",
    "    '''\n",
    "    return np.array_split(points, divisions)\n",
    "\n",
    "\n",
    "def link_points(points, ax, colour_map):\n",
    "    '''\n",
    "    Plots :param: points as points linked by lines on :param: ax Axes.\n",
    "    The colour of the points and the lines is a 'smooth' colour transition from\n",
    "    both colour extremes of the :param: colour_map\n",
    "    '''\n",
    "    number_of_points = points.shape[0]\n",
    "    colours = [colour_map(1.*i/(number_of_points-1)) for i in range(number_of_points-1)]\n",
    "    point_pairs = zip(points, points[1:]) # Creates a pairs of points (p_0, p_1), (p_1, p_2)...\n",
    "    for point_pair, colour in zip(point_pairs, colours):\n",
    "        numpy_point_pair = np.array(point_pair)\n",
    "        ax.plot(numpy_point_pair[:, 0], numpy_point_pair[:, 1], '-o', color=colour)\n",
    "\n",
    "\n",
    "def plot_trajectory_evolution_in_embedded_space(points, divisions, ax, colour_map):\n",
    "    divided_points = divide_points(points, divisions=divisions)\n",
    "    centroids = np.array([find_centroid(sub_points) for sub_points in divided_points])\n",
    "    link_points(centroids, ax, colour_map)"
   ]
  },
  {
   "cell_type": "code",
   "execution_count": 7,
   "metadata": {},
   "outputs": [
    {
     "data": {
      "image/png": "[encoded data removed]",
      "text/plain": [
       "<Figure size 432x288 with 1 Axes>"
      ]
     },
     "metadata": {
      "needs_background": "light"
     },
     "output_type": "display_data"
    }
   ],
   "source": [
    "# Create points. You can ignore this if you want\n",
    "step = 10\n",
    "max_val = 100\n",
    "points = np.concatenate([np.random.randint(i, i+step, size=(5, 2)) for i in range(0, max_val, step)])\n",
    "\n",
    "# Choose colour map that has smooth transitions. Winter looks nice, but we can try with others\n",
    "colour_map = plt.get_cmap('winter')\n",
    "\n",
    "# This is the where the magic happens.\n",
    "# Because we will want to plot on a subfigure, we will have to pass it as a parameter\n",
    "fig = plt.figure()\n",
    "ax = fig.add_subplot(111)\n",
    "plot_trajectory_evolution_in_embedded_space(points, divisions=10, ax=ax, colour_map=colour_map)\n",
    "\n",
    "ax.scatter(points[:, 0], points[:, 1])\n",
    "plt.show()"
   ]
  },
  {
   "cell_type": "code",
   "execution_count": null,
   "metadata": {},
   "outputs": [],
   "source": []
  }
 ],
 "metadata": {
  "kernelspec": {
   "display_name": "Python 3",
   "language": "python",
   "name": "python3"
  },
  "language_info": {
   "codemirror_mode": {
    "name": "ipython",
    "version": 3
   },
   "file_extension": ".py",
   "mimetype": "text/x-python",
   "name": "python",
   "nbconvert_exporter": "python",
   "pygments_lexer": "ipython3",
   "version": "3.6.8"
  }
 },
 "nbformat": 4,
 "nbformat_minor": 2
}
